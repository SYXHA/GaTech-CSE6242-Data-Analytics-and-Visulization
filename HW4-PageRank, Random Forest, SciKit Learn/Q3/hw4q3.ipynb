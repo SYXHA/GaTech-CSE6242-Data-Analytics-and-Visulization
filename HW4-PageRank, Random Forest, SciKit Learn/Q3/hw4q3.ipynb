{
 "cells": [
  {
   "cell_type": "markdown",
   "metadata": {},
   "source": [
    "# Q3 Using Scikit-Learn"
   ]
  },
  {
   "cell_type": "code",
   "execution_count": 1,
   "metadata": {},
   "outputs": [
    {
     "name": "stderr",
     "output_type": "stream",
     "text": [
      "/Applications/Anaconda/anaconda/lib/python3.6/site-packages/sklearn/ensemble/weight_boosting.py:29: DeprecationWarning: numpy.core.umath_tests is an internal NumPy module and should not be imported. It will be removed in a future NumPy release.\n",
      "  from numpy.core.umath_tests import inner1d\n"
     ]
    }
   ],
   "source": [
    "import numpy as np\n",
    "import pandas as pd\n",
    "import time\n",
    "import gc\n",
    "\n",
    "from sklearn.model_selection import cross_val_score, GridSearchCV, cross_validate, train_test_split\n",
    "from sklearn.metrics import accuracy_score, classification_report\n",
    "from sklearn.svm import SVC\n",
    "from sklearn.linear_model import LinearRegression\n",
    "from sklearn.neural_network import MLPClassifier\n",
    "from sklearn.ensemble import RandomForestClassifier\n",
    "from sklearn.preprocessing import StandardScaler, normalize\n",
    "from sklearn.decomposition import PCA\n",
    "# Import statements run before running other code cells"
   ]
  },
  {
   "cell_type": "markdown",
   "metadata": {},
   "source": [
    "# Classifier Setup"
   ]
  },
  {
   "cell_type": "code",
   "execution_count": 2,
   "metadata": {},
   "outputs": [],
   "source": [
    "# XXX\n",
    "# TODO: Read in all the data. Replace the 'xxx' with the path to the data set.\n",
    "# XXX\n",
    "\n",
    "# data = pd.read_csv('pulsar_stars.csv')\n",
    "\n",
    "# Separate out the x_data and y_data.\n",
    "# x_data = data.loc[:, data.columns != \"y\"]\n",
    "# y_data = data.loc[:, \"y\"]\n",
    "\n",
    "# -------------------------------\n",
    "# ADD CODE HERE\n",
    "data = pd.read_csv('pulsar_stars.csv')\n",
    "\n",
    "x_data = data.loc[:, data.columns != \"y\"]\n",
    "y_data = data.loc[:, \"y\"]\n",
    "# -------------------------------"
   ]
  },
  {
   "cell_type": "code",
   "execution_count": 3,
   "metadata": {
    "collapsed": true
   },
   "outputs": [],
   "source": [
    "# The random state to use while splitting the data.\n",
    "# random_state = 100\n",
    "\n",
    "# XXX\n",
    "# TODO: Split 70% of the data into training and 30% into test sets. Call them x_train, x_test, y_train and y_test.\n",
    "# Use the train_test_split method in sklearn with the parameter 'shuffle' set to true and the 'random_state' set to 100.\n",
    "# XXX\n",
    "\n",
    "# -------------------------------\n",
    "# ADD CODE HERE\n",
    "random_state = 100\n",
    "\n",
    "x_train, x_test, y_train, y_test = train_test_split(x_data, y_data, test_size=0.3,\\\n",
    "                                                    random_state=random_state, shuffle=True)\n",
    "\n",
    "# -------------------------------"
   ]
  },
  {
   "cell_type": "markdown",
   "metadata": {},
   "source": [
    "# Linear Regression "
   ]
  },
  {
   "cell_type": "code",
   "execution_count": 4,
   "metadata": {},
   "outputs": [
    {
     "data": {
      "text/plain": [
       "LinearRegression(copy_X=True, fit_intercept=True, n_jobs=1, normalize=False)"
      ]
     },
     "execution_count": 4,
     "metadata": {},
     "output_type": "execute_result"
    }
   ],
   "source": [
    "# XXX\n",
    "# TODO: Create a LinearRegression classifier and train it.\n",
    "# XXX\n",
    "\n",
    "# -------------------------------\n",
    "# ADD CODE HERE\n",
    "LR = LinearRegression()\n",
    "LR.fit(x_train, y_train)\n",
    "# -------------------------------"
   ]
  },
  {
   "cell_type": "code",
   "execution_count": 5,
   "metadata": {},
   "outputs": [
    {
     "name": "stdout",
     "output_type": "stream",
     "text": [
      "Linear regression accuracy on the training set: 97.07%\n"
     ]
    }
   ],
   "source": [
    "# XXX\n",
    "# TODO: Test its accuracy (on the training set) using the accuracy_score method.\n",
    "# Note: Round the output values greater than or equal to 0.5 to 1 and those less than 0.5 to 0. You can use any method that satisfies the requriements.\n",
    "# XXX\n",
    "\n",
    "# -------------------------------\n",
    "# ADD CODE HERE\n",
    "LR_y_pred_train = LR.predict(x_train)\n",
    "LR_y_pred_train_round = [0 if i<0.5 else 1 for i in LR_y_pred_train]\n",
    "LR_train_accuracy = 100 * accuracy_score(y_train, LR_y_pred_train_round)\n",
    "print(\"Linear regression accuracy on the training set: %.2f%%\" %LR_train_accuracy)\n",
    "# -------------------------------"
   ]
  },
  {
   "cell_type": "code",
   "execution_count": 6,
   "metadata": {},
   "outputs": [
    {
     "name": "stdout",
     "output_type": "stream",
     "text": [
      "Linear regression accuracy on the test set: 97.21%\n"
     ]
    }
   ],
   "source": [
    "# XXX\n",
    "# TODO: Test its accuracy (on the testing set) using the accuracy_score method.\n",
    "# Note: Round the output values greater than or equal to 0.5 to 1 and those less than 0.5 to 0. You can use any method that satisfies the requriements.\n",
    "# XXX\n",
    "\n",
    "# -------------------------------\n",
    "# ADD CODE HERE\n",
    "LR_y_pred_test = LR.predict(x_test)\n",
    "LR_y_pred_test_round = [0 if i<0.5 else 1 for i in LR_y_pred_test]\n",
    "LR_test_accuracy = 100*accuracy_score(y_test, LR_y_pred_test_round)\n",
    "print(\"Linear regression accuracy on the test set: %.2f%%\" %LR_test_accuracy)\n",
    "# -------------------------------"
   ]
  },
  {
   "cell_type": "markdown",
   "metadata": {},
   "source": [
    "# Random Forest Classifier"
   ]
  },
  {
   "cell_type": "code",
   "execution_count": 7,
   "metadata": {},
   "outputs": [
    {
     "data": {
      "text/plain": [
       "RandomForestClassifier(bootstrap=True, class_weight=None, criterion='gini',\n",
       "            max_depth=None, max_features='auto', max_leaf_nodes=None,\n",
       "            min_impurity_decrease=0.0, min_impurity_split=None,\n",
       "            min_samples_leaf=1, min_samples_split=2,\n",
       "            min_weight_fraction_leaf=0.0, n_estimators=10, n_jobs=1,\n",
       "            oob_score=False, random_state=100, verbose=0, warm_start=False)"
      ]
     },
     "execution_count": 7,
     "metadata": {},
     "output_type": "execute_result"
    }
   ],
   "source": [
    "# XXX\n",
    "# TODO: Create a RandomForestClassifier and train it.\n",
    "# WARNING: Ignore \"FutureWarning: The default value of n_estimators will change from 10 in version 0.20 to 100 in 0.22.\"10 in version 0.20 to 100 in 0.22.\"\n",
    "# XXX\n",
    "\n",
    "# -------------------------------\n",
    "# ADD CODE HERE\n",
    "RF = RandomForestClassifier(random_state=random_state)\n",
    "RF.fit(x_train, y_train)  \n",
    "# -------------------------------"
   ]
  },
  {
   "cell_type": "code",
   "execution_count": 8,
   "metadata": {},
   "outputs": [
    {
     "name": "stdout",
     "output_type": "stream",
     "text": [
      "Random forest accuracy on the training set: 99.61%\n"
     ]
    }
   ],
   "source": [
    "# XXX\n",
    "# TODO: Test its accuracy on the training set using the accuracy_score method.\n",
    "# XXX\n",
    "\n",
    "# -------------------------------\n",
    "# ADD CODE HERE\n",
    "RF_y_pred_train = RF.predict(x_train)\n",
    "RF_y_pred_train_round = [0 if i<0.5 else 1 for i in RF_y_pred_train]\n",
    "RF_train_accuracy = 100 * accuracy_score(y_train, RF_y_pred_train_round)\n",
    "print(\"Random forest accuracy on the training set: %.2f%%\" %RF_train_accuracy)\n",
    "# -------------------------------"
   ]
  },
  {
   "cell_type": "code",
   "execution_count": 9,
   "metadata": {},
   "outputs": [
    {
     "name": "stdout",
     "output_type": "stream",
     "text": [
      "Random forest accuracy on the test set: 98.10%\n"
     ]
    }
   ],
   "source": [
    "# XXX\n",
    "# TODO: Test its accuracy on the test set using the accuracy_score method.\n",
    "# XXX\n",
    "\n",
    "# -------------------------------\n",
    "# ADD CODE HERE\n",
    "RF_y_pred_test = RF.predict(x_test)\n",
    "RF_y_pred_test_round = [0 if i<0.5 else 1 for i in RF_y_pred_test]\n",
    "RF_test_accuracy = 100*accuracy_score(y_test, RF_y_pred_test_round, normalize=True)\n",
    "print(\"Random forest accuracy on the test set: %.2f%%\" %RF_test_accuracy)\n",
    "# -------------------------------"
   ]
  },
  {
   "cell_type": "markdown",
   "metadata": {},
   "source": [
    "## Feature Importance"
   ]
  },
  {
   "cell_type": "code",
   "execution_count": 10,
   "metadata": {},
   "outputs": [
    {
     "name": "stdout",
     "output_type": "stream",
     "text": [
      "[0.1257031  0.03131994 0.45697513 0.16258565 0.05165992 0.08903044\n",
      " 0.05408017 0.02864564]\n"
     ]
    }
   ],
   "source": [
    "# XXX\n",
    "# TODO: Determine and print the feature importance as evaluated by the Random Forest Classifier.\n",
    "# XXX\n",
    "\n",
    "# -------------------------------\n",
    "# ADD CODE HERE\n",
    "feature_importance = RF.feature_importances_\n",
    "print(feature_importance)\n",
    "# -------------------------------"
   ]
  },
  {
   "cell_type": "code",
   "execution_count": 11,
   "metadata": {},
   "outputs": [
    {
     "name": "stdout",
     "output_type": "stream",
     "text": [
      "X2  0.456975\n",
      "X3  0.162586\n",
      "X0  0.125703\n",
      "X5  0.089030\n",
      "X6  0.054080\n",
      "X4  0.051660\n",
      "X1  0.031320\n",
      "X7  0.028646\n"
     ]
    }
   ],
   "source": [
    "# XXX\n",
    "# TODO: Sort them in the descending order and print the feature numbers[0 to ...].\n",
    "#       Hint: There is a direct function available in sklearn to achieve this. Also checkout argsort() function in Python.\n",
    "# XXX\n",
    "\n",
    "# -------------------------------\n",
    "# ADD CODE HERE\n",
    "indexes = np.argsort(feature_importance)[::-1]\n",
    "for f in range(x_train.shape[1]):\n",
    "    print(\"X%d  %f\" % (indexes[f], feature_importance[indexes[f]]))\n",
    "# -------------------------------"
   ]
  },
  {
   "cell_type": "markdown",
   "metadata": {},
   "source": [
    "## Hyper-parameter Tuning"
   ]
  },
  {
   "cell_type": "code",
   "execution_count": 12,
   "metadata": {},
   "outputs": [
    {
     "name": "stdout",
     "output_type": "stream",
     "text": [
      "Testing accuracy for random forest after tuning: 98.1%\n"
     ]
    }
   ],
   "source": [
    "# XXX\n",
    "# TODO: Tune the hyper-parameters 'n_estimators' and 'max_depth'.\n",
    "# XXX\n",
    "\n",
    "# -------------------------------\n",
    "# ADD CODE HERE\n",
    "parameters = {'n_estimators':[4, 8, 12, 16], 'max_depth':[2, 5, 10, 25]}\n",
    "RF_tuning = GridSearchCV(RF, parameters, cv=10, refit=True, scoring='accuracy')\n",
    "RF_tuning.fit(x_train, y_train)\n",
    "RF_max_test_accuracy = accuracy_score(RF_tuning.predict(x_test), y_test)\n",
    "print(\"Testing accuracy for random forest after tuning: \" + str(100*round(RF_max_test_accuracy,4)) + \"%\")\n",
    "# -------------------------------"
   ]
  },
  {
   "cell_type": "code",
   "execution_count": 13,
   "metadata": {},
   "outputs": [
    {
     "name": "stdout",
     "output_type": "stream",
     "text": [
      "{'max_depth': 10, 'n_estimators': 12}\n"
     ]
    }
   ],
   "source": [
    "# XXX\n",
    "# TODO: Print the best params, using .best_params_\n",
    "# XXX\n",
    "\n",
    "# -------------------------------\n",
    "# ADD CODE HERE\n",
    "print(RF_tuning.best_params_)\n",
    "# -------------------------------"
   ]
  },
  {
   "cell_type": "code",
   "execution_count": 14,
   "metadata": {},
   "outputs": [
    {
     "name": "stdout",
     "output_type": "stream",
     "text": [
      "0.9787675606641124\n"
     ]
    }
   ],
   "source": [
    "# XXX\n",
    "# TODO: Print the best score, using .best_score_.\n",
    "# XXX\n",
    "\n",
    "# -------------------------------\n",
    "# ADD CODE HERE\n",
    "print(RF_tuning.best_score_)\n",
    "# -------------------------------"
   ]
  },
  {
   "cell_type": "markdown",
   "metadata": {},
   "source": [
    "# Support Vector Machine"
   ]
  },
  {
   "cell_type": "markdown",
   "metadata": {},
   "source": [
    "## Pre-process"
   ]
  },
  {
   "cell_type": "code",
   "execution_count": 16,
   "metadata": {
    "collapsed": true
   },
   "outputs": [],
   "source": [
    "# XXX\n",
    "# TODO: Pre-process the data to standardize or normalize it, otherwise the grid search will take much longer.\n",
    "# Warning: Ignore \"FutureWarning: The default value of gamma will change from 'auto' to 'scale' in version 0.22 to account better for unscaled features. Set gamma explicitly to 'auto' or 'scale' to avoid this warning\"\n",
    "# XXX\n",
    "\n",
    "# -------------------------------\n",
    "# ADD CODE HERE\n",
    "x_train_norm = normalize(x_train)\n",
    "x_test_norm = normalize(x_test)\n",
    "# -------------------------------"
   ]
  },
  {
   "cell_type": "code",
   "execution_count": 17,
   "metadata": {},
   "outputs": [
    {
     "data": {
      "text/plain": [
       "SVC(C=1.0, cache_size=200, class_weight=None, coef0=0.0,\n",
       "  decision_function_shape='ovr', degree=3, gamma='auto', kernel='rbf',\n",
       "  max_iter=-1, probability=False, random_state=None, shrinking=True,\n",
       "  tol=0.001, verbose=False)"
      ]
     },
     "execution_count": 17,
     "metadata": {},
     "output_type": "execute_result"
    }
   ],
   "source": [
    "# XXX\n",
    "# TODO: Create a SVC classifier and train it.\n",
    "# XXX\n",
    "\n",
    "# -------------------------------\n",
    "# ADD CODE HERE\n",
    "SVM = SVC(gamma='auto') \n",
    "SVM.fit(x_train_norm, y_train)\n",
    "# -------------------------------"
   ]
  },
  {
   "cell_type": "code",
   "execution_count": 18,
   "metadata": {},
   "outputs": [
    {
     "name": "stdout",
     "output_type": "stream",
     "text": [
      "SVM accuracy on the test set: 96.68%\n"
     ]
    }
   ],
   "source": [
    "# XXX\n",
    "# TODO: Test its accuracy on the training set using the accuracy_score method.\n",
    "# XXX\n",
    "# WARNING: Ignore \"FutureWarning: The default value of gamma will change from 'auto' to 'scale' in version 0.22 to account better for unscaled features. Set gamma explicitly to 'auto' or 'scale' to avoid this warning.\"\"\n",
    "\n",
    "# -------------------------------\n",
    "# ADD CODE HERE\n",
    "SVM_y_pred_train= SVM.predict(x_train_norm)\n",
    "SVM_y_pred_train_round = [0 if i<0.5 else 1 for i in SVM_y_pred_train]\n",
    "SVM_train_accuracy = 100*accuracy_score(y_train, SVM_y_pred_train_round, normalize=True)\n",
    "print(\"SVM accuracy on the test set: %.2f%%\" %SVM_train_accuracy)\n",
    "# -------------------------------"
   ]
  },
  {
   "cell_type": "code",
   "execution_count": 19,
   "metadata": {},
   "outputs": [
    {
     "name": "stdout",
     "output_type": "stream",
     "text": [
      "SVM accuracy on the test set: 97.04%\n"
     ]
    }
   ],
   "source": [
    "# XXX\n",
    "# TODO: Test its accuracy on the test set using the accuracy_score method.\n",
    "# XXX\n",
    "# WARNING: Ignore \"FutureWarning: The default value of gamma will change from 'auto' to 'scale' in version 0.22 to account better for unscaled features. Set gamma explicitly to 'auto' or 'scale' to avoid this warning.\"\"\n",
    "\n",
    "# -------------------------------\n",
    "# ADD CODE HERE\n",
    "SVM_y_pred_test = SVM.predict(x_test_norm)\n",
    "SVM_y_pred_test_round = [0 if i<0.5 else 1 for i in SVM_y_pred_test]\n",
    "SVM_test_accuracy = 100*accuracy_score(y_test, SVM_y_pred_test_round, normalize=True)\n",
    "print(\"SVM accuracy on the test set: %.2f%%\" %SVM_test_accuracy)\n",
    "# -------------------------------"
   ]
  },
  {
   "cell_type": "markdown",
   "metadata": {},
   "source": [
    "## Hyper-parameter Tuning"
   ]
  },
  {
   "cell_type": "code",
   "execution_count": 20,
   "metadata": {},
   "outputs": [
    {
     "data": {
      "text/plain": [
       "GridSearchCV(cv=10, error_score='raise',\n",
       "       estimator=SVC(C=1.0, cache_size=200, class_weight=None, coef0=0.0,\n",
       "  decision_function_shape='ovr', degree=3, gamma='auto', kernel='rbf',\n",
       "  max_iter=-1, probability=False, random_state=None, shrinking=True,\n",
       "  tol=0.001, verbose=False),\n",
       "       fit_params=None, iid=True, n_jobs=1,\n",
       "       param_grid={'kernel': ['rbf', 'linear'], 'C': [0.001, 0.0001, 0.01, 1e-05]},\n",
       "       pre_dispatch='2*n_jobs', refit=True, return_train_score=True,\n",
       "       scoring=None, verbose=0)"
      ]
     },
     "execution_count": 20,
     "metadata": {},
     "output_type": "execute_result"
    }
   ],
   "source": [
    "# XXX\n",
    "# TODO: Tune the hyper-parameters 'C' and 'kernel' (use rbf and linear).\n",
    "# XXX\n",
    "\n",
    "# -------------------------------\n",
    "# ADD CODE HERE\n",
    "parameters_svm = {'kernel':['rbf','linear'], 'C':[0.001,0.0001, 0.01,0.00001]}\n",
    "SVM_tuning = GridSearchCV(SVC(), parameters_svm, cv=10, return_train_score=True)\n",
    "SVM_tuning.fit(x_train_norm, y_train)\n",
    "# -------------------------------"
   ]
  },
  {
   "cell_type": "code",
   "execution_count": 21,
   "metadata": {},
   "outputs": [
    {
     "name": "stdout",
     "output_type": "stream",
     "text": [
      "{'C': 0.01, 'kernel': 'linear'}\n",
      "0.9545019157088123\n"
     ]
    }
   ],
   "source": [
    "# XXX\n",
    "# TODO: Print the best score, using .best_score_.\n",
    "# XXX\n",
    "\n",
    "# -------------------------------\n",
    "# ADD CODE HERE\n",
    "print(SVM_tuning.best_params_)\n",
    "print(SVM_tuning.best_score_)\n",
    "# -------------------------------"
   ]
  },
  {
   "cell_type": "markdown",
   "metadata": {},
   "source": [
    "# Support Vector Machine"
   ]
  },
  {
   "cell_type": "code",
   "execution_count": 22,
   "metadata": {},
   "outputs": [],
   "source": [
    "# XXX\n",
    "# TODO: Calculate the training and test set accuracy values after hyperparameter tuning and normalization. \n",
    "# XXX\n",
    "\n",
    "# -------------------------------\n",
    "# ADD CODE HERE\n",
    "SVM_tuning_train_accuracy = accuracy_score(SVM_tuning.predict(x_train_norm), y_train)\n",
    "SVM_tuning_test_accuracy = accuracy_score(SVM_tuning.predict(x_test_norm), y_test)\n",
    "# -------------------------------"
   ]
  },
  {
   "cell_type": "code",
   "execution_count": 23,
   "metadata": {},
   "outputs": [
    {
     "name": "stdout",
     "output_type": "stream",
     "text": [
      "Training accuracy for SVM after tuning: 95.46%\n"
     ]
    }
   ],
   "source": [
    "# XXX\n",
    "# TODO: Test its accuracy (on the training set) using the accuracy_score method. Print the result\n",
    "# XXX\n",
    "\n",
    "# -------------------------------\n",
    "# ADD CODE HERE\n",
    "print(\"Training accuracy for SVM after tuning: \" + str(100*round(SVM_tuning_train_accuracy,4)) + \"%\")\n",
    "# -------------------------------"
   ]
  },
  {
   "cell_type": "code",
   "execution_count": 24,
   "metadata": {},
   "outputs": [
    {
     "name": "stdout",
     "output_type": "stream",
     "text": [
      "Testing accuracy for SVM after tuning: 95.59%\n"
     ]
    }
   ],
   "source": [
    "# XXX\n",
    "# TODO: Test its accuracy (on the testing set) using the accuracy_score method. Print the result\n",
    "# XXX\n",
    "\n",
    "# -------------------------------\n",
    "# ADD CODE HERE\n",
    "print(\"Testing accuracy for SVM after tuning: \" + str(100*round(SVM_tuning_test_accuracy,4)) + \"%\")\n",
    "# -------------------------------"
   ]
  },
  {
   "cell_type": "code",
   "execution_count": 25,
   "metadata": {},
   "outputs": [],
   "source": [
    "# XXX\n",
    "# TODO: Calculate the rank test score, mean testing score and mean fit time for the \n",
    "# all hyperparameter values that you obtained in Q3.2. The GridSearchCV \n",
    "# class holds a  ‘cv_results_’ dictionary that should help you report these metrics easily.\n",
    "# XXX\n",
    "\n",
    "# -------------------------------\n",
    "# ADD CODE HERE\n",
    "result = SVM_tuning.cv_results_\n",
    "rank_test_score = result['rank_test_score']\n",
    "mean_test_score = result['mean_test_score']\n",
    "mean_fit_time = result['mean_fit_time']\n",
    "# -------------------------------"
   ]
  },
  {
   "cell_type": "code",
   "execution_count": 26,
   "metadata": {},
   "outputs": [
    {
     "name": "stdout",
     "output_type": "stream",
     "text": [
      "The Rank Test Score for all hyperparameter values are  [2 2 2 2 2 1 2 2]\n"
     ]
    }
   ],
   "source": [
    "# XXX\n",
    "# TODO: Print the rank test score for all hyperparameter values that you obtained in Q3.2. The \n",
    "# GridSearchCV class holds a  ‘cv_results_’ dictionary that should help you report these metrics easily.\n",
    "# XXX\n",
    "\n",
    "# -------------------------------\n",
    "# ADD CODE HERE\n",
    "print('The Rank Test Score for all hyperparameter values are ', rank_test_score)\n",
    "# -------------------------------"
   ]
  },
  {
   "cell_type": "code",
   "execution_count": 27,
   "metadata": {},
   "outputs": [
    {
     "name": "stdout",
     "output_type": "stream",
     "text": [
      "The mean testing score for all hyperparameter values are  [0.90876437 0.90876437 0.90876437 0.90876437 0.90876437 0.95450192\n",
      " 0.90876437 0.90876437]\n"
     ]
    }
   ],
   "source": [
    "# XXX\n",
    "# TODO: Print mean testing score for all of hyperparameter values that you obtained in Q3.2. The \n",
    "# GridSearchCV class holds a  ‘cv_results_’ dictionary that should help you report these metrics easily.\n",
    "# XXX\n",
    "\n",
    "# -------------------------------\n",
    "# ADD CODE HERE\n",
    "print('The mean testing score for all hyperparameter values are ', mean_test_score)\n",
    "# -------------------------------"
   ]
  },
  {
   "cell_type": "code",
   "execution_count": 28,
   "metadata": {},
   "outputs": [
    {
     "name": "stdout",
     "output_type": "stream",
     "text": [
      "The mean fit time for all hyperparameter values are  [1.0107832  0.58414142 1.01308992 0.53511817 0.98111222 0.55904825\n",
      " 0.96959028 0.52344933]\n"
     ]
    }
   ],
   "source": [
    "# XXX\n",
    "# TODO: Print mean fit time for all of hyperparameter values that you obtained in Q3.2. The \n",
    "# GridSearchCV class holds a  ‘cv_results_’ dictionary that should help you report these metrics easily.\n",
    "# XXX\n",
    "\n",
    "# -------------------------------\n",
    "# ADD CODE HERE\n",
    "print('The mean fit time for all hyperparameter values are ', mean_fit_time)\n",
    "# -------------------------------"
   ]
  },
  {
   "cell_type": "markdown",
   "metadata": {},
   "source": [
    "# PCA"
   ]
  },
  {
   "cell_type": "code",
   "execution_count": 29,
   "metadata": {},
   "outputs": [
    {
     "data": {
      "text/plain": [
       "PCA(copy=True, iterated_power='auto', n_components=8, random_state=None,\n",
       "  svd_solver='full', tol=0.0, whiten=False)"
      ]
     },
     "execution_count": 29,
     "metadata": {},
     "output_type": "execute_result"
    }
   ],
   "source": [
    "# XXX\n",
    "# TODO: Perform dimensionality reduction of the data using PCA.\n",
    "#       Set parameters n_component to 8 and svd_solver to 'full'. Keep other parameters at their default value.\n",
    "# XXX\n",
    "\n",
    "# -------------------------------\n",
    "# ADD CODE HERE\n",
    "PCA = PCA(n_components=8, svd_solver='full')\n",
    "PCA.fit(x_train, y_train)  \n",
    "# -------------------------------"
   ]
  },
  {
   "cell_type": "code",
   "execution_count": 30,
   "metadata": {},
   "outputs": [
    {
     "name": "stdout",
     "output_type": "stream",
     "text": [
      "[6.94399204e-01 2.53912066e-01 2.85011856e-02 1.02529970e-02\n",
      " 6.89204024e-03 5.93958263e-03 9.07076820e-05 1.22170354e-05]\n"
     ]
    }
   ],
   "source": [
    "# XXX\n",
    "# TODO: Print Percentage of variance explained by each of the selected components\n",
    "# XXX\n",
    "\n",
    "# -------------------------------\n",
    "# ADD CODE HERE\n",
    "print(PCA.explained_variance_ratio_) \n",
    "# -------------------------------"
   ]
  },
  {
   "cell_type": "code",
   "execution_count": 31,
   "metadata": {},
   "outputs": [
    {
     "name": "stdout",
     "output_type": "stream",
     "text": [
      "[40.02811972 24.20484202  8.10946206  4.86391523  3.98781025  3.70201818\n",
      "  0.45749107  0.16789722]\n"
     ]
    }
   ],
   "source": [
    "# XXX\n",
    "# TODO: The singular values corresponding to each of the selected components.\n",
    "# XXX\n",
    "\n",
    "# -------------------------------\n",
    "# ADD CODE HERE\n",
    "print(PCA.singular_values_)  \n",
    "# -------------------------------"
   ]
  },
  {
   "cell_type": "code",
   "execution_count": null,
   "metadata": {
    "collapsed": true
   },
   "outputs": [],
   "source": []
  }
 ],
 "metadata": {
  "kernelspec": {
   "display_name": "Python 3",
   "language": "python",
   "name": "python3"
  },
  "language_info": {
   "codemirror_mode": {
    "name": "ipython",
    "version": 3
   },
   "file_extension": ".py",
   "mimetype": "text/x-python",
   "name": "python",
   "nbconvert_exporter": "python",
   "pygments_lexer": "ipython3",
   "version": "3.6.8"
  }
 },
 "nbformat": 4,
 "nbformat_minor": 2
}
